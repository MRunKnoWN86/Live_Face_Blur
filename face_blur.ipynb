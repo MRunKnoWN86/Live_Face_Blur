{
 "cells": [
  {
   "cell_type": "code",
   "execution_count": null,
   "id": "b7f4a8b9",
   "metadata": {},
   "outputs": [],
   "source": [
    "import numpy as np\n",
    "import cv2\n",
    "import time"
   ]
  },
  {
   "cell_type": "code",
   "execution_count": null,
   "id": "5921b317",
   "metadata": {},
   "outputs": [],
   "source": [
    "cap = cv2.VideoCapture(0)"
   ]
  },
  {
   "cell_type": "code",
   "execution_count": null,
   "id": "ca61729b",
   "metadata": {},
   "outputs": [],
   "source": [
    " ret , photo = cap.read()"
   ]
  },
  {
   "cell_type": "code",
   "execution_count": null,
   "id": "4c669acc",
   "metadata": {},
   "outputs": [],
   "source": [
    "model = cv2.CascadeClassifier('cascade.xml')"
   ]
  },
  {
   "cell_type": "code",
   "execution_count": null,
   "id": "21edde8c",
   "metadata": {},
   "outputs": [],
   "source": [
    "fdetect = model.detectMultiScale(photo)"
   ]
  },
  {
   "cell_type": "code",
   "execution_count": null,
   "id": "f2285f4b",
   "metadata": {},
   "outputs": [],
   "source": [
    "fdetect"
   ]
  },
  {
   "cell_type": "code",
   "execution_count": null,
   "id": "44b932d9",
   "metadata": {},
   "outputs": [],
   "source": [
    "x1 = fdetect[0][0]\n",
    "y1 = fdetect[0][1]\n",
    "x2 = fdetect[0][2] + x1\n",
    "y2 = fdetect[0][3] + y1"
   ]
  },
  {
   "cell_type": "code",
   "execution_count": null,
   "id": "39f0f1b2",
   "metadata": {},
   "outputs": [],
   "source": [
    "crop = photo[ y1:y2 , x1:x2]\n",
    "bect = cv2.blur(crop , (15,15))"
   ]
  },
  {
   "cell_type": "code",
   "execution_count": null,
   "id": "1d15cfa6",
   "metadata": {},
   "outputs": [],
   "source": [
    "photo[ y1:y2 , x1:x2] = bect"
   ]
  },
  {
   "cell_type": "code",
   "execution_count": null,
   "id": "18525b46",
   "metadata": {},
   "outputs": [],
   "source": [
    "#video_part_____main\n",
    "while True :\n",
    "    \n",
    "    ret , photo = cap.read()\n",
    "    fdetect = model.detectMultiScale(photo)\n",
    "    if len(fdetect) == 0:\n",
    "        print(\"no face\")\n",
    "    else:\n",
    "        x1 = fdetect[0][0]\n",
    "        y1 = fdetect[0][1]\n",
    "        x2 = fdetect[0][2] + x1\n",
    "        y2 = fdetect[0][3] + y1\n",
    "        crop = photo[ y1:y2 , x1:x2]\n",
    "        bect = cv2.blur(crop , (15,15))\n",
    "        photo[ y1:y2 , x1:x2] = bect\n",
    "    \n",
    "        \n",
    "        cv2.imshow('My-Photo', photo)\n",
    "        if cv2.waitKey(5) == 13:\n",
    "            break\n",
    "        \n",
    "        \n",
    "cv2.destroyAllWindows()"
   ]
  },
  {
   "cell_type": "code",
   "execution_count": null,
   "id": "c43defa0",
   "metadata": {},
   "outputs": [],
   "source": [
    "cap.release()"
   ]
  }
 ],
 "metadata": {
  "kernelspec": {
   "display_name": "Python 3",
   "language": "python",
   "name": "python3"
  },
  "language_info": {
   "codemirror_mode": {
    "name": "ipython",
    "version": 3
   },
   "file_extension": ".py",
   "mimetype": "text/x-python",
   "name": "python",
   "nbconvert_exporter": "python",
   "pygments_lexer": "ipython3",
   "version": "3.8.8"
  }
 },
 "nbformat": 4,
 "nbformat_minor": 5
}
